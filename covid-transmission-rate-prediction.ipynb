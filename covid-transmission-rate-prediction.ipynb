{
 "cells": [
  {
   "cell_type": "code",
   "execution_count": null,
   "metadata": {
    "id": "cM4XvYNNJCYk"
   },
   "outputs": [],
   "source": [
    "import os\n",
    "import numpy as np\n",
    "import pandas as pd\n",
    "import matplotlib.pyplot as plt\n",
    "import datetime\n",
    "from datetime import datetime, timedelta\n",
    "import sklearn\n",
    "from sklearn import metrics\n",
    "from sklearn.model_selection import train_test_split\n",
    "from sklearn import linear_model\n",
    "from sklearn.metrics import mean_squared_error\n",
    "import math\n",
    "from math import sqrt\n",
    "import random\n",
    "import scipy\n",
    "from scipy.interpolate import make_interp_spline\n",
    "\n",
    "pd.set_option(\"display.max_columns\", None)\n",
    "pd.set_option(\"display.max_rows\", 40)\n",
    "random.seed(1)\n",
    "\n",
    "import gdown \n",
    "gdown.download('https://drive.google.com/uc?id=1oK8AlCRFp4isBJQv-AZnC_zr-ZvrOOxd','covid-statistics-by-us-states-daily-updates.csv',True);\n",
    "\n",
    "raw_data = pd.read_csv('covid-statistics-by-us-states-daily-updates.csv')\n",
    "\n",
    "raw_data[\"date\"] = pd.to_datetime(raw_data[\"date\"], format=\"%Y-%m-%d\")\n",
    "\n",
    "raw_data.set_index(\"date\", inplace = True, drop = False)\n",
    "\n",
    "state_df_list = []\n",
    "for name, df in raw_data.groupby(\"state\"):\n",
    "  tomorrow_data = df[['date','positiveincrease']]\n",
    "  tomorrow_data.columns = ['tomorrow_date', 'tomorrow_new_pos']\n",
    "  tomorrow_data['today_date'] = tomorrow_data.tomorrow_date - timedelta(days=1)\n",
    "  tomorrow_data.set_index(\"today_date\", inplace = True)\n",
    "  state_df = df.join(tomorrow_data, how = 'inner')\n",
    "  state_df_list.append(state_df)\n",
    "\n",
    "data = pd.concat(state_df_list)\n",
    "data.drop(['date','tomorrow_date'],axis=1,inplace=True)\n",
    "data = data[~data.totaltestresultsincrease.isna()]\n",
    "data = data[~data.total.isna()]\n",
    "data = data[~data.positive.isna()]\n",
    "data.negative = data.total - data.positive\n",
    "\n",
    "data.sort_index(inplace = True)"
   ]
  },
  {
   "cell_type": "code",
   "execution_count": null,
   "metadata": {
    "id": "1o-PBuZYyX5x"
   },
   "outputs": [],
   "source": [
    "data.head(1)"
   ]
  },
  {
   "cell_type": "code",
   "execution_count": null,
   "metadata": {
    "id": "sK2UMwg37TBU"
   },
   "outputs": [],
   "source": [
    "data = data[[\"state\", \"positive\", \"negative\", \n",
    "             \"total\", \"hospitalizedincrease\", \n",
    "             \"negativeincrease\", \"positiveincrease\", \n",
    "             \"tomorrow_new_pos\"]]\n"
   ]
  },
  {
   "cell_type": "code",
   "execution_count": null,
   "metadata": {
    "id": "MTNh16XUaNIF"
   },
   "outputs": [],
   "source": [
    "data.head(50) "
   ]
  },
  {
   "cell_type": "code",
   "execution_count": null,
   "metadata": {
    "id": "Ys0bGAOdP9Qc"
   },
   "outputs": [],
   "source": [
    "num_rows = data.shape[0]\n",
    "num_columns = data.shape[1]\n",
    "\n",
    "print (num_rows, \"rows\")\n",
    "print (num_columns, \"columns\")"
   ]
  },
  {
   "cell_type": "code",
   "execution_count": null,
   "metadata": {
    "cellView": "form",
    "id": "FLAfZo6JQ7r4"
   },
   "outputs": [],
   "source": [
    "state = \"ma\" \n",
    "\n",
    "state=state.upper()\n",
    "\n",
    "states = set(data[\"state\"])\n",
    "\n",
    "if state not in states:\n",
    "    raise ValueError(\"Abbreviation isn't a state. Please try again\")\n",
    "print(f\"You've chosen to see the data for the state of {state}\")\n",
    "\n",
    "new_data=data[data[\"state\"] == state]\n",
    "new_data.index = (new_data.index - datetime(2020, 1, 1)).days\n",
    "\n",
    "plt.plot(new_data.index, new_data.tomorrow_new_pos)\n",
    "plt.title(f\"New positive cases each day for {state}\")\n",
    "plt.ylabel(\"Number of new positive cases\")\n",
    "plt.xlabel(\"Day of the year\")\n",
    "plt.xlim(22, 118)\n",
    "plt.show()\n",
    "\n",
    "plt.plot(new_data.index, new_data.positive)\n",
    "plt.title(f\"Total number of positive cases for the state of {state}\")\n",
    "plt.ylabel(\"Number of total positive cases\")\n",
    "plt.xlabel(\"Day of the year\")\n",
    "plt.xlim(22, 118)\n",
    "plt.show()"
   ]
  },
  {
   "cell_type": "code",
   "execution_count": null,
   "metadata": {
    "cellView": "form",
    "id": "M8coXzcShppu"
   },
   "outputs": [],
   "source": [
    "X_raw = data.drop(['tomorrow_new_pos'],axis=1)\n",
    "\n",
    "y_raw = data[['tomorrow_new_pos']]"
   ]
  },
  {
   "cell_type": "code",
   "execution_count": null,
   "metadata": {
    "cellView": "form",
    "id": "G0OA1u3cXHcp"
   },
   "outputs": [],
   "source": [
    "one_hot_columns = pd.get_dummies(X_raw.state, prefix=\"state\")\n",
    "\n",
    "X = pd.concat([X_raw, one_hot_columns], axis=1)\n",
    "X.drop('state',axis=1,inplace=True)\n",
    "\n",
    "X[\"day_of_year\"] = (X.index - datetime(2020, 1, 1)).days\n",
    "\n",
    "X.reset_index(inplace = True, drop=True)\n",
    "y = y_raw.reset_index(drop = True)\n",
    "\n",
    "X.head(5)"
   ]
  },
  {
   "cell_type": "code",
   "execution_count": null,
   "metadata": {
    "id": "WJAxlX5p1Vsu"
   },
   "outputs": [],
   "source": [
    "X_train, X_test, y_train, y_test = train_test_split(X, y, test_size=0.2, shuffle=False)"
   ]
  },
  {
   "cell_type": "code",
   "execution_count": null,
   "metadata": {
    "id": "PwTnO35bPmdj"
   },
   "outputs": [],
   "source": [
    "print (X_train.shape, X_test.shape, y_train.shape, y_test.shape) "
   ]
  },
  {
   "cell_type": "code",
   "execution_count": null,
   "metadata": {
    "id": "fvNdjnyHVAxl"
   },
   "outputs": [],
   "source": [
    "linear = linear_model.LinearRegression()"
   ]
  },
  {
   "cell_type": "code",
   "execution_count": null,
   "metadata": {
    "id": "rmo1jjEa1HWK"
   },
   "outputs": [],
   "source": [
    "linear.fit(X_train, y_train)"
   ]
  },
  {
   "cell_type": "code",
   "execution_count": null,
   "metadata": {
    "id": "WkqUhdtR3Yw3"
   },
   "outputs": [],
   "source": [
    "y_pred = linear.predict(X_test)"
   ]
  },
  {
   "cell_type": "code",
   "execution_count": null,
   "metadata": {
    "cellView": "form",
    "id": "Hpg8-FqN1Gxm"
   },
   "outputs": [],
   "source": [
    "state = \"ms\" \n",
    "\n",
    "def plot_true_and_pred(state, y_pred):\n",
    "  state=state.upper()\n",
    "\n",
    "  if state not in set(data[\"state\"]):\n",
    "      raise ValueError(\"Abbreviation isn't a state. Please try again\")\n",
    "  print(f\"You've chosen to see the data for the state of {state}\")\n",
    "\n",
    "  y_pred_series = pd.Series(y_pred.squeeze(), index = y_test.index)\n",
    "\n",
    "  X_train_state = X_train[X_train[\"state_\"+state] == 1]\n",
    "  X_test_state = X_test[X_test[\"state_\"+state] == 1]\n",
    "\n",
    "  early_true = y_train.loc[X_train_state.index]\n",
    "  late_true = y_test.loc[X_test_state.index]\n",
    "  late_pred = y_pred_series.loc[X_test_state.index]\n",
    "\n",
    "  plt.plot(X_train_state.day_of_year, early_true)\n",
    "  plt.plot(X_test_state.day_of_year, late_true)\n",
    "  plt.plot(X_test_state.day_of_year, late_pred)\n",
    "  plt.legend([\"True (Training)\", \"True (Testing)\", \"Predicted (Testing)\"])\n",
    "  plt.show()\n",
    "\n",
    "plot_true_and_pred(state, y_pred)\n"
   ]
  },
  {
   "cell_type": "code",
   "execution_count": null,
   "metadata": {
    "id": "d5ypMAiUSQ37"
   },
   "outputs": [],
   "source": [
    "from sklearn.metrics import mean_squared_error\n",
    "\n",
    "mse_linear = mean_squared_error(y_test, y_pred)\n",
    "\n",
    "print (\"MSE for linear model:\", mse_linear)"
   ]
  },
  {
   "cell_type": "code",
   "execution_count": null,
   "metadata": {
    "id": "nUGpi5Q3fojb"
   },
   "outputs": [],
   "source": [
    "from sklearn.neural_network import MLPRegressor \n",
    "\n",
    "nnet = MLPRegressor(hidden_layer_sizes=(10,10,10,10), \n",
    "                    activation=\"relu\",\n",
    "                    max_iter= 10000)  \n",
    "nnet.fit(X_train, y_train)\n",
    "\n",
    "nnet_preds = nnet.predict(X_test)\n",
    "\n",
    "mse_nnet = mean_squared_error(y_true = y_test, \n",
    "                              y_pred = nnet_preds)\n",
    "\n",
    "print (\"MSE\", mse_nnet)"
   ]
  },
  {
   "cell_type": "code",
   "execution_count": null,
   "metadata": {
    "id": "6fVLCDh-s2IZ"
   },
   "outputs": [],
   "source": [
    "plot_true_and_pred(\"WA\",nnet_preds)"
   ]
  },
  {
   "cell_type": "code",
   "execution_count": null,
   "metadata": {
    "id": "pt5uxFNEiFK8"
   },
   "outputs": [],
   "source": [
    "for hidden_layer_sizes in [(), (1), (3), (5),(10),\n",
    "                           (5,5), (10, 10), \n",
    "                           (5,5,5), (10, 10, 10), \n",
    "                           (10, 10, 10, 10), \n",
    "                           (10, 10, 10, 10, 10)]:\n",
    "\n",
    "  print(f\"Testing neural network for the following configuration: {hidden_layer_sizes}\")\n",
    "  nnet = MLPRegressor(hidden_layer_sizes=hidden_layer_sizes,\n",
    "                      activation=\"relu\",\n",
    "                      max_iter= 100000)\n",
    "  \n",
    "  nnet.fit(X_train, y_train)\n",
    "\n",
    "  nnet_preds = nnet.predict(X_test)\n",
    "\n",
    "  mse_nnet = mean_squared_error(y_true = y_test, \n",
    "                                y_pred = nnet_preds)\n",
    "\n",
    "  print(f\"Our MSE  for the neural network is: {mse_nnet}\")"
   ]
  },
  {
   "cell_type": "code",
   "execution_count": null,
   "metadata": {
    "cellView": "form",
    "id": "luTge0NIoKes"
   },
   "outputs": [],
   "source": [
    "X_rand = np.linspace(0, 15, 50)\n",
    "y_rand = (5 * X_rand) + (1.75 * np.random.normal(scale=10, size=len(X_rand))) \n",
    "plt.scatter(X_rand, y_rand)\n",
    "plt.show()"
   ]
  },
  {
   "cell_type": "code",
   "execution_count": null,
   "metadata": {
    "cellView": "form",
    "id": "2-AM9Evco0sK"
   },
   "outputs": [],
   "source": [
    "slope=1\n",
    "y_intercept=0\n",
    "\n",
    "predicted_y_rand= (slope * X_rand) + y_intercept\n",
    "\n",
    "plt.scatter(X_rand, y_rand)\n",
    "plt.plot(X_rand, predicted_y_rand, color=\"red\")\n",
    "plt.show()\n"
   ]
  },
  {
   "cell_type": "code",
   "execution_count": null,
   "metadata": {
    "cellView": "form",
    "id": "hhMatTbtyzOR"
   },
   "outputs": [],
   "source": [
    "from sklearn import linear_model\n",
    "\n",
    "linear_rand =linear_model.LinearRegression()\n",
    "\n",
    "linear_rand.fit(X_rand.reshape(-1, 1), y_rand)\n",
    "\n",
    "slope=linear_rand.coef_\n",
    "y_intercept=linear_rand.intercept_\n",
    "\n",
    "predicted_y_rand_linear = (slope * X_rand) + y_intercept\n",
    "\n",
    "plt.scatter(X_rand, y_rand)\n",
    "plt.plot(X_rand, predicted_y_rand_linear, color=\"red\")\n",
    "plt.show()"
   ]
  },
  {
   "cell_type": "code",
   "execution_count": null,
   "metadata": {
    "cellView": "form",
    "id": "sTsDMLvdo5AF"
   },
   "outputs": [],
   "source": [
    "a=0.007\n",
    "b=-0.25\n",
    "c=2.5\n",
    "d=-3\n",
    "e=2\n",
    "\n",
    "predicted_y_rand= (a*np.power(X_rand, 4)) + (b*np.power(X_rand, 3)) + (c*np.power(X_rand, 2)) + (d*np.power(X_rand, 1)) + e\n",
    "\n",
    "plt.scatter(X_rand, y_rand)\n",
    "plt.plot(X_rand, predicted_y_rand, color=\"red\")\n",
    "plt.ylim(0, 120)\n",
    "plt.show()\n"
   ]
  },
  {
   "cell_type": "code",
   "execution_count": null,
   "metadata": {
    "cellView": "form",
    "id": "hVxfLbUKy7zN"
   },
   "outputs": [],
   "source": [
    "rand_polyfit = np.polyfit(X_rand, y_rand, deg = 4)\n",
    "\n",
    "a=rand_polyfit[0]\n",
    "b=rand_polyfit[1]\n",
    "c=rand_polyfit[2]\n",
    "d=rand_polyfit[3]\n",
    "e=rand_polyfit[4]\n",
    "\n",
    "predicted_y_rand_polynomial = (a*np.power(X_rand, 4)) + (b*np.power(X_rand, 3)) + (c*np.power(X_rand, 2)) + (d*np.power(X_rand, 1)) + e\n",
    "\n",
    "plt.scatter(X_rand, y_rand)\n",
    "plt.plot(X_rand, predicted_y_rand_polynomial, color=\"red\")\n",
    "plt.ylim(0, 120)\n",
    "plt.show()\n",
    "\n"
   ]
  },
  {
   "cell_type": "code",
   "execution_count": null,
   "metadata": {
    "cellView": "form",
    "id": "oJg_8N2Be3du"
   },
   "outputs": [],
   "source": [
    "plt.scatter(X_rand, y_rand)\n",
    "plt.plot(X_rand, y_rand, color=\"red\")\n",
    "plt.ylim(0, 120)\n",
    "plt.show()\n",
    "\n"
   ]
  },
  {
   "cell_type": "code",
   "execution_count": null,
   "metadata": {
    "cellView": "form",
    "id": "ygEYNNwJ0Fcw"
   },
   "outputs": [],
   "source": [
    "x=14\n",
    "y=60\n",
    "\n",
    "new_y_line = (slope * x) + y_intercept\n",
    "new_y_polynomial = (a * np.power(x, 4)) + (b * np.power(x, 3)) + (c * np.power(x, 2)) + (d * np.power(x, 1)) + e\n",
    "\n",
    "plt.scatter(X_rand, y_rand)\n",
    "plt.ylim(0, 120)\n",
    "plt.scatter(x, y, color=\"purple\", s=75)\n",
    "plt.plot(X_rand, predicted_y_rand_linear, color=\"red\")\n",
    "plt.title(\"Fitting using the straight line\")\n",
    "plt.show()\n",
    "\n",
    "plt.scatter(X_rand, y_rand)\n",
    "plt.ylim(0, 120)\n",
    "plt.scatter(x, y, color=\"purple\", s=75)\n",
    "plt.plot(X_rand, predicted_y_rand_polynomial, color=\"green\")\n",
    "plt.title(\"Fitting using the 4th-degree polynomial\")\n",
    "plt.show()\n",
    "\n",
    "plt.scatter(X_rand, y_rand)\n",
    "plt.ylim(0, 120)\n",
    "plt.scatter(x, y, color=\"purple\", s=75)\n",
    "plt.plot(X_rand, y_rand, color=\"red\", dashes=[6,2])\n",
    "plt.title(\"Fitting using the extreme polynomial\")\n",
    "plt.show()"
   ]
  },
  {
   "cell_type": "code",
   "execution_count": null,
   "metadata": {
    "id": "AOZZsyGafulA"
   },
   "outputs": [],
   "source": [
    "state = 'tx' \n",
    "state=state.upper()\n",
    "\n",
    "X_train_state = X_train[X_train[\"state_\"+state] == 1]\n",
    "X_test_state = X_test[X_test[\"state_\"+state] == 1]\n",
    "\n",
    "print (\"Training and testing shapes:\", X_train_state.shape, X_test_state.shape)\n",
    "\n",
    "current_day = X_train_state.iloc[-1:].copy()\n",
    "\n",
    "current_day"
   ]
  },
  {
   "cell_type": "code",
   "execution_count": null,
   "metadata": {
    "cellView": "form",
    "id": "YeQP8rylsrPc"
   },
   "outputs": [],
   "source": [
    "pred_list = [] \n",
    "\n",
    "for pred_day in range(len(X_test_state)):\n",
    "  prediction = linear.predict(current_day).item()\n",
    "  current_day['positiveincrease'] = prediction\n",
    "  current_day['day_of_year'] += 1\n",
    "  pred_list.append(prediction)"
   ]
  },
  {
   "cell_type": "code",
   "execution_count": null,
   "metadata": {
    "cellView": "form",
    "id": "ahFpck5ffzdC"
   },
   "outputs": [],
   "source": [
    "early_true = y_train.loc[X_train_state.index]\n",
    "late_true = y_test.loc[X_test_state.index]\n",
    "late_pred = pred_list\n",
    "\n",
    "plt.plot(X_train_state.day_of_year, early_true)\n",
    "plt.plot(X_test_state.day_of_year, late_true)\n",
    "plt.plot(X_test_state.day_of_year, late_pred)\n",
    "plt.title(f\"New positive cases each day for {state}\")\n",
    "plt.legend([\"True (Training)\", \"True (Testing)\", \"Predicted\"])\n",
    "plt.show() "
   ]
  }
 ],
 "metadata": {
  "colab": {
   "collapsed_sections": [],
   "name": "Copy of Covid Prediction - Instructor.ipynb",
   "provenance": []
  },
  "kernelspec": {
   "display_name": "Python 3 (ipykernel)",
   "language": "python",
   "name": "python3"
  },
  "language_info": {
   "codemirror_mode": {
    "name": "ipython",
    "version": 3
   },
   "file_extension": ".py",
   "mimetype": "text/x-python",
   "name": "python",
   "nbconvert_exporter": "python",
   "pygments_lexer": "ipython3",
   "version": "3.9.10"
  }
 },
 "nbformat": 4,
 "nbformat_minor": 1
}
